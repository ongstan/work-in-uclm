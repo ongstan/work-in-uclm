{
 "cells": [
  {
   "cell_type": "code",
   "execution_count": 1,
   "metadata": {},
   "outputs": [
    {
     "name": "stdout",
     "output_type": "stream",
     "text": [
      "\u001b[0m\u001b[01;34mactivity1\u001b[0m/  \u001b[01;34mactivity3\u001b[0m/  dengue_features_test.csv   dengue_labels_train.csv\r\n",
      "\u001b[01;34mactivity2\u001b[0m/  \u001b[01;34mactivity4\u001b[0m/  dengue_features_train.csv  submission_format.csv\r\n"
     ]
    }
   ],
   "source": [
    "ls .."
   ]
  },
  {
   "cell_type": "code",
   "execution_count": 2,
   "metadata": {
    "collapsed": true
   },
   "outputs": [],
   "source": [
    "import pandas as pd"
   ]
  },
  {
   "cell_type": "code",
   "execution_count": 3,
   "metadata": {
    "collapsed": true
   },
   "outputs": [],
   "source": [
    "dengue = pd.read_csv('../dengue_features_train.csv')\n",
    "dengue_labels = pd.read_csv('../dengue_features_train.csv')"
   ]
  },
  {
   "cell_type": "code",
   "execution_count": 4,
   "metadata": {},
   "outputs": [
    {
     "data": {
      "text/plain": [
       "Index(['city', 'year', 'weekofyear', 'week_start_date', 'ndvi_ne', 'ndvi_nw',\n",
       "       'ndvi_se', 'ndvi_sw', 'precipitation_amt_mm', 'reanalysis_air_temp_k',\n",
       "       'reanalysis_avg_temp_k', 'reanalysis_dew_point_temp_k',\n",
       "       'reanalysis_max_air_temp_k', 'reanalysis_min_air_temp_k',\n",
       "       'reanalysis_precip_amt_kg_per_m2',\n",
       "       'reanalysis_relative_humidity_percent', 'reanalysis_sat_precip_amt_mm',\n",
       "       'reanalysis_specific_humidity_g_per_kg', 'reanalysis_tdtr_k',\n",
       "       'station_avg_temp_c', 'station_diur_temp_rng_c', 'station_max_temp_c',\n",
       "       'station_min_temp_c', 'station_precip_mm'],\n",
       "      dtype='object')"
      ]
     },
     "execution_count": 4,
     "metadata": {},
     "output_type": "execute_result"
    }
   ],
   "source": [
    "dengue.columns"
   ]
  },
  {
   "cell_type": "code",
   "execution_count": 5,
   "metadata": {
    "collapsed": true
   },
   "outputs": [],
   "source": [
    "unused_field = ['weekofyear', 'week_start_date']"
   ]
  },
  {
   "cell_type": "code",
   "execution_count": 6,
   "metadata": {
    "collapsed": true
   },
   "outputs": [],
   "source": [
    "dengue_copy = dengue.copy()\n",
    "labels = dengue_labels.copy()"
   ]
  },
  {
   "cell_type": "code",
   "execution_count": 7,
   "metadata": {
    "collapsed": true
   },
   "outputs": [],
   "source": [
    "for i in unused_field:\n",
    "    del dengue_copy[i]\n",
    "    del labels[i]"
   ]
  },
  {
   "cell_type": "code",
   "execution_count": 15,
   "metadata": {},
   "outputs": [],
   "source": [
    "correlation_of_features = dengue_copy.corr()\n",
    "list_of_feature_correlation = []"
   ]
  },
  {
   "cell_type": "code",
   "execution_count": 16,
   "metadata": {},
   "outputs": [],
   "source": [
    "for index,datarow in correlation_of_features.iterrows():\n",
    "    for key,value in datarow.iteritems():\n",
    "        if 1 > float(value) > 0.8:\n",
    "            list_of_feature_correlation.append((index,key,value))"
   ]
  },
  {
   "cell_type": "code",
   "execution_count": 17,
   "metadata": {},
   "outputs": [
    {
     "data": {
      "text/plain": [
       "[('ndvi_ne', 'ndvi_nw', 0.85090195130970381),\n",
       " ('ndvi_nw', 'ndvi_ne', 0.85090195130970381),\n",
       " ('ndvi_se', 'ndvi_sw', 0.82092437479143465),\n",
       " ('ndvi_sw', 'ndvi_se', 0.82092437479143465),\n",
       " ('reanalysis_air_temp_k', 'reanalysis_avg_temp_k', 0.90177744471676913),\n",
       " ('reanalysis_avg_temp_k', 'reanalysis_air_temp_k', 0.90177744471676913),\n",
       " ('reanalysis_dew_point_temp_k',\n",
       "  'reanalysis_specific_humidity_g_per_kg',\n",
       "  0.99705129320114028),\n",
       " ('reanalysis_max_air_temp_k', 'reanalysis_tdtr_k', 0.91857825769237011),\n",
       " ('reanalysis_max_air_temp_k', 'station_diur_temp_rng_c', 0.83426304759274517),\n",
       " ('reanalysis_specific_humidity_g_per_kg',\n",
       "  'reanalysis_dew_point_temp_k',\n",
       "  0.99705129320114028),\n",
       " ('reanalysis_tdtr_k', 'reanalysis_max_air_temp_k', 0.91857825769237011),\n",
       " ('reanalysis_tdtr_k', 'station_diur_temp_rng_c', 0.88117574525918962),\n",
       " ('station_diur_temp_rng_c', 'reanalysis_max_air_temp_k', 0.83426304759274517),\n",
       " ('station_diur_temp_rng_c', 'reanalysis_tdtr_k', 0.88117574525918962)]"
      ]
     },
     "execution_count": 17,
     "metadata": {},
     "output_type": "execute_result"
    }
   ],
   "source": [
    "list_of_feature_correlation"
   ]
  },
  {
   "cell_type": "code",
   "execution_count": 18,
   "metadata": {
    "collapsed": true
   },
   "outputs": [],
   "source": [
    "features_selected = set()\n",
    "for i in list_of_feature_correlation:\n",
    "    features_selected.add(i[0])\n",
    "    features_selected.add(i[1])"
   ]
  },
  {
   "cell_type": "code",
   "execution_count": 19,
   "metadata": {},
   "outputs": [
    {
     "data": {
      "text/plain": [
       "{'ndvi_ne',\n",
       " 'ndvi_nw',\n",
       " 'ndvi_se',\n",
       " 'ndvi_sw',\n",
       " 'reanalysis_air_temp_k',\n",
       " 'reanalysis_avg_temp_k',\n",
       " 'reanalysis_dew_point_temp_k',\n",
       " 'reanalysis_max_air_temp_k',\n",
       " 'reanalysis_specific_humidity_g_per_kg',\n",
       " 'reanalysis_tdtr_k',\n",
       " 'station_diur_temp_rng_c'}"
      ]
     },
     "execution_count": 19,
     "metadata": {},
     "output_type": "execute_result"
    }
   ],
   "source": [
    "features_selected"
   ]
  },
  {
   "cell_type": "code",
   "execution_count": 25,
   "metadata": {
    "collapsed": true
   },
   "outputs": [],
   "source": [
    "del dengue_copy['city']"
   ]
  },
  {
   "cell_type": "code",
   "execution_count": 26,
   "metadata": {},
   "outputs": [],
   "source": [
    "from sklearn.preprocessing import MinMaxScaler, Imputer\n",
    "min_max_scaler = MinMaxScaler()\n",
    "\n",
    "imp = Imputer(axis=0, copy=True, missing_values='NaN', strategy='mean', verbose=0)\n",
    "dengue_subset_normalized = imp.fit_transform(dengue_copy)"
   ]
  },
  {
   "cell_type": "code",
   "execution_count": 29,
   "metadata": {},
   "outputs": [
    {
     "data": {
      "text/plain": [
       "array([[ 0.        ,  0.57822643,  0.61483516, ...,  0.17419355,\n",
       "         0.48623853,  0.02944966],\n",
       "       [ 0.        ,  0.62994263,  0.65706338, ...,  0.32258065,\n",
       "         0.68807339,  0.01582919],\n",
       "       [ 0.        ,  0.47944084,  0.69088077, ...,  0.35483871,\n",
       "         0.74311927,  0.07620099],\n",
       "       ..., \n",
       "       [ 1.        ,  0.71430355,  0.66132695, ...,  0.35483871,\n",
       "         0.41284404,  0.01362047],\n",
       "       [ 1.        ,  0.80927023,  0.77083949, ...,  0.29032258,\n",
       "         0.57798165,  0.02944966],\n",
       "       [ 1.        ,  0.77020581,  0.75678172, ...,  0.4516129 ,\n",
       "         0.68807339,  0.03754832]])"
      ]
     },
     "execution_count": 29,
     "metadata": {},
     "output_type": "execute_result"
    }
   ],
   "source": [
    "min_max_scaler.fit_transform(dengue_copy.dropna())"
   ]
  },
  {
   "cell_type": "code",
   "execution_count": null,
   "metadata": {
    "collapsed": true
   },
   "outputs": [],
   "source": []
  }
 ],
 "metadata": {
  "kernelspec": {
   "display_name": "Python 3",
   "language": "python",
   "name": "python3"
  },
  "language_info": {
   "codemirror_mode": {
    "name": "ipython",
    "version": 3
   },
   "file_extension": ".py",
   "mimetype": "text/x-python",
   "name": "python",
   "nbconvert_exporter": "python",
   "pygments_lexer": "ipython3",
   "version": "3.6.2"
  }
 },
 "nbformat": 4,
 "nbformat_minor": 2
}
